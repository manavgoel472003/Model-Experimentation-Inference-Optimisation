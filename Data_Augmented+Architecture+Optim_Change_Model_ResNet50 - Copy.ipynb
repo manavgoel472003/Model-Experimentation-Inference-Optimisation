{
  "cells": [
    {
      "cell_type": "markdown",
      "metadata": {
        "id": "CZ3nIAmXFb9X"
      },
      "source": [
        "## Setup"
      ]
    },
    {
      "cell_type": "code",
      "execution_count": 1,
      "metadata": {
        "colab": {
          "base_uri": "https://localhost:8080/"
        },
        "id": "M-aYBLqJx_fi",
        "outputId": "5a78ecbc-4191-429f-dabe-b700f274cef7"
      },
      "outputs": [
        {
          "name": "stdout",
          "output_type": "stream",
          "text": [
            "Requirement already satisfied: monai in c:\\users\\manav\\miniconda3\\envs\\ml\\lib\\site-packages (1.4.0)\n",
            "Requirement already satisfied: numpy<2.0,>=1.24 in c:\\users\\manav\\miniconda3\\envs\\ml\\lib\\site-packages (from monai) (1.26.4)\n",
            "Requirement already satisfied: torch>=1.9 in c:\\users\\manav\\miniconda3\\envs\\ml\\lib\\site-packages (from monai) (2.5.1)\n",
            "Requirement already satisfied: filelock in c:\\users\\manav\\miniconda3\\envs\\ml\\lib\\site-packages (from torch>=1.9->monai) (3.13.1)\n",
            "Requirement already satisfied: typing-extensions>=4.8.0 in c:\\users\\manav\\miniconda3\\envs\\ml\\lib\\site-packages (from torch>=1.9->monai) (4.11.0)\n",
            "Requirement already satisfied: networkx in c:\\users\\manav\\miniconda3\\envs\\ml\\lib\\site-packages (from torch>=1.9->monai) (3.3)\n",
            "Requirement already satisfied: jinja2 in c:\\users\\manav\\miniconda3\\envs\\ml\\lib\\site-packages (from torch>=1.9->monai) (3.1.4)\n",
            "Requirement already satisfied: fsspec in c:\\users\\manav\\miniconda3\\envs\\ml\\lib\\site-packages (from torch>=1.9->monai) (2024.9.0)\n",
            "Requirement already satisfied: sympy==1.13.1 in c:\\users\\manav\\miniconda3\\envs\\ml\\lib\\site-packages (from torch>=1.9->monai) (1.13.1)\n",
            "Requirement already satisfied: mpmath<1.4,>=1.1.0 in c:\\users\\manav\\miniconda3\\envs\\ml\\lib\\site-packages (from sympy==1.13.1->torch>=1.9->monai) (1.3.0)\n",
            "Requirement already satisfied: MarkupSafe>=2.0 in c:\\users\\manav\\miniconda3\\envs\\ml\\lib\\site-packages (from jinja2->torch>=1.9->monai) (2.1.3)\n",
            "Note: you may need to restart the kernel to use updated packages.\n"
          ]
        }
      ],
      "source": [
        "%pip install monai"
      ]
    },
    {
      "cell_type": "code",
      "execution_count": 2,
      "metadata": {
        "colab": {
          "base_uri": "https://localhost:8080/"
        },
        "id": "dSQt59T-x_fj",
        "outputId": "964b50ca-95aa-42e2-9712-04107e2960be"
      },
      "outputs": [
        {
          "name": "stdout",
          "output_type": "stream",
          "text": [
            "Name: monai\n",
            "Version: 1.4.0\n",
            "Summary: AI Toolkit for Healthcare Imaging\n",
            "Home-page: https://monai.io/\n",
            "Author: MONAI Consortium\n",
            "Author-email: monai.contact@gmail.com\n",
            "License: Apache License 2.0\n",
            "Location: c:\\users\\manav\\miniconda3\\envs\\ml\\lib\\site-packages\n",
            "Requires: numpy, torch\n",
            "Required-by: \n",
            "Note: you may need to restart the kernel to use updated packages.\n"
          ]
        }
      ],
      "source": [
        "%pip show monai"
      ]
    },
    {
      "cell_type": "code",
      "execution_count": 3,
      "metadata": {
        "colab": {
          "base_uri": "https://localhost:8080/"
        },
        "id": "kaB-ibclx_fj",
        "outputId": "296dcc8e-07b5-4e23-d948-80ba5b32887b"
      },
      "outputs": [
        {
          "name": "stderr",
          "output_type": "stream",
          "text": [
            "c:\\Users\\manav\\miniconda3\\envs\\ML\\lib\\site-packages\\tqdm\\auto.py:21: TqdmWarning: IProgress not found. Please update jupyter and ipywidgets. See https://ipywidgets.readthedocs.io/en/stable/user_install.html\n",
            "  from .autonotebook import tqdm as notebook_tqdm\n"
          ]
        },
        {
          "name": "stdout",
          "output_type": "stream",
          "text": [
            "MONAI version: 1.4.0\n",
            "Numpy version: 1.26.4\n",
            "Pytorch version: 2.5.1\n",
            "MONAI flags: HAS_EXT = False, USE_COMPILED = False, USE_META_DICT = False\n",
            "MONAI rev id: 46a5272196a6c2590ca2589029eed8e4d56ff008\n",
            "MONAI __file__: c:\\Users\\<username>\\miniconda3\\envs\\ML\\lib\\site-packages\\monai\\__init__.py\n",
            "\n",
            "Optional dependencies:\n",
            "Pytorch Ignite version: NOT INSTALLED or UNKNOWN VERSION.\n",
            "ITK version: NOT INSTALLED or UNKNOWN VERSION.\n",
            "Nibabel version: NOT INSTALLED or UNKNOWN VERSION.\n",
            "scikit-image version: NOT INSTALLED or UNKNOWN VERSION.\n",
            "scipy version: 1.13.1\n",
            "Pillow version: 10.4.0\n",
            "Tensorboard version: 2.10.0\n",
            "gdown version: NOT INSTALLED or UNKNOWN VERSION.\n",
            "TorchVision version: 0.20.1\n",
            "tqdm version: 4.67.0\n",
            "lmdb version: NOT INSTALLED or UNKNOWN VERSION.\n",
            "psutil version: 6.1.0\n",
            "pandas version: 2.2.2\n",
            "einops version: NOT INSTALLED or UNKNOWN VERSION.\n",
            "transformers version: 4.48.3\n",
            "mlflow version: NOT INSTALLED or UNKNOWN VERSION.\n",
            "pynrrd version: NOT INSTALLED or UNKNOWN VERSION.\n",
            "clearml version: NOT INSTALLED or UNKNOWN VERSION.\n",
            "\n",
            "For details about installing the optional dependencies, please visit:\n",
            "    https://docs.monai.io/en/latest/installation.html#installing-the-recommended-dependencies\n",
            "\n"
          ]
        }
      ],
      "source": [
        "import monai\n",
        "import os\n",
        "import shutil\n",
        "import tempfile\n",
        "import matplotlib.pyplot as plt\n",
        "import PIL\n",
        "import torch\n",
        "from torch.utils.tensorboard import SummaryWriter\n",
        "import numpy as np\n",
        "from sklearn.metrics import classification_report\n",
        "\n",
        "from monai.apps import download_and_extract\n",
        "from monai.config import print_config\n",
        "from monai.data import decollate_batch, DataLoader\n",
        "from monai.metrics import ROCAUCMetric\n",
        "from monai.networks.nets import DenseNet121\n",
        "from monai.transforms import (\n",
        "    Activations,\n",
        "    EnsureChannelFirst,\n",
        "    AsDiscrete,\n",
        "    Compose,\n",
        "    LoadImage,\n",
        "    RandFlip,\n",
        "    RandRotate,\n",
        "    RandZoom,\n",
        "    ScaleIntensity,\n",
        "    RandGaussianNoise,\n",
        "    RandGaussianSmooth,\n",
        "    Resize\n",
        ")\n",
        "from monai.utils import set_determinism\n",
        "from tqdm.auto import tqdm\n",
        "\n",
        "print_config()"
      ]
    },
    {
      "cell_type": "code",
      "execution_count": 4,
      "metadata": {
        "colab": {
          "base_uri": "https://localhost:8080/"
        },
        "id": "cb65NDRsx_fj",
        "outputId": "b6c50d50-0389-4420-ffbf-3d9fd28a9ca4"
      },
      "outputs": [
        {
          "name": "stdout",
          "output_type": "stream",
          "text": [
            "C:\\Users\\manav\\AppData\\Local\\Temp\\tmp1mt04f2_\n"
          ]
        }
      ],
      "source": [
        "directory = os.environ.get(\"MONAI_DATA_DIRECTORY\")\n",
        "if directory is not None:\n",
        "    os.makedirs(directory, exist_ok=True)\n",
        "root_dir = tempfile.mkdtemp() if directory is None else directory\n",
        "print(root_dir)"
      ]
    },
    {
      "cell_type": "code",
      "execution_count": 5,
      "metadata": {
        "colab": {
          "base_uri": "https://localhost:8080/"
        },
        "id": "j4_vtxiJx_fk",
        "outputId": "14adee02-1ab7-441b-cea0-44a1dba70db2"
      },
      "outputs": [
        {
          "name": "stderr",
          "output_type": "stream",
          "text": [
            "MedNIST.tar.gz: 0.00B [00:00, ?B/s]"
          ]
        },
        {
          "name": "stderr",
          "output_type": "stream",
          "text": [
            "MedNIST.tar.gz: 59.0MB [00:02, 28.3MB/s]                              "
          ]
        },
        {
          "name": "stdout",
          "output_type": "stream",
          "text": [
            "2025-04-06 18:07:24,287 - INFO - Downloaded: C:\\Users\\manav\\AppData\\Local\\Temp\\tmp1mt04f2_\\MedNIST.tar.gz\n"
          ]
        },
        {
          "name": "stderr",
          "output_type": "stream",
          "text": [
            "\n"
          ]
        },
        {
          "name": "stdout",
          "output_type": "stream",
          "text": [
            "2025-04-06 18:07:24,380 - INFO - Verified 'MedNIST.tar.gz', md5: 0bc7306e7427e00ad1c5526a6677552d.\n",
            "2025-04-06 18:07:24,389 - INFO - Writing into directory: C:\\Users\\manav\\AppData\\Local\\Temp\\tmp1mt04f2_.\n"
          ]
        }
      ],
      "source": [
        "resource = \"https://github.com/Project-MONAI/MONAI-extra-test-data/releases/download/0.8.1/MedNIST.tar.gz\"\n",
        "md5 = \"0bc7306e7427e00ad1c5526a6677552d\"\n",
        "\n",
        "compressed_file = os.path.join(root_dir, \"MedNIST.tar.gz\")\n",
        "data_dir = os.path.join(root_dir, \"MedNIST\")\n",
        "if not os.path.exists(data_dir):\n",
        "    download_and_extract(resource, compressed_file, root_dir, md5)"
      ]
    },
    {
      "cell_type": "code",
      "execution_count": 6,
      "metadata": {
        "id": "ZEn8OK3Px_fk"
      },
      "outputs": [],
      "source": [
        "set_determinism(seed=42)"
      ]
    },
    {
      "cell_type": "code",
      "execution_count": 7,
      "metadata": {
        "colab": {
          "base_uri": "https://localhost:8080/"
        },
        "id": "zE8bYjw6x_fk",
        "outputId": "bb186b92-26aa-4485-9677-d822bf21d4fc"
      },
      "outputs": [
        {
          "name": "stdout",
          "output_type": "stream",
          "text": [
            "Total image count: 58954\n",
            "Image dimensions: 64 x 64\n",
            "Label names: ['AbdomenCT', 'BreastMRI', 'CXR', 'ChestCT', 'Hand', 'HeadCT']\n",
            "Label counts: [10000, 8954, 10000, 10000, 10000, 10000]\n"
          ]
        }
      ],
      "source": [
        "class_names = sorted(x for x in os.listdir(data_dir) if os.path.isdir(os.path.join(data_dir, x)))\n",
        "num_class = len(class_names)\n",
        "image_files = [\n",
        "    [os.path.join(data_dir, class_names[i], x) for x in os.listdir(os.path.join(data_dir, class_names[i]))]\n",
        "    for i in range(num_class)\n",
        "]\n",
        "num_each = [len(image_files[i]) for i in range(num_class)]\n",
        "image_files_list = []\n",
        "image_class = []\n",
        "for i in range(num_class):\n",
        "    image_files_list.extend(image_files[i])\n",
        "    image_class.extend([i] * num_each[i])\n",
        "num_total = len(image_class)\n",
        "image_width, image_height = PIL.Image.open(image_files_list[0]).size\n",
        "\n",
        "print(f\"Total image count: {num_total}\")\n",
        "print(f\"Image dimensions: {image_width} x {image_height}\")\n",
        "print(f\"Label names: {class_names}\")\n",
        "print(f\"Label counts: {num_each}\")"
      ]
    },
    {
      "cell_type": "code",
      "execution_count": 8,
      "metadata": {
        "colab": {
          "base_uri": "https://localhost:8080/",
          "height": 806
        },
        "id": "73LxXWPWx_fk",
        "outputId": "c651c6c6-1de3-420b-8736-4ce8b9128af2"
      },
      "outputs": [
        {
          "data": {
            "image/png": "[encoded data removed]",
            "text/plain": [
              "<Figure size 800x800 with 9 Axes>"
            ]
          },
          "metadata": {},
          "output_type": "display_data"
        }
      ],
      "source": [
        "plt.subplots(3, 3, figsize=(8, 8))\n",
        "for i, k in enumerate(np.random.randint(num_total, size=9)):\n",
        "    im = PIL.Image.open(image_files_list[k])\n",
        "    arr = np.array(im)\n",
        "    plt.subplot(3, 3, i + 1)\n",
        "    plt.xlabel(class_names[image_class[k]])\n",
        "    plt.imshow(arr, cmap=\"gray\", vmin=0, vmax=255)\n",
        "plt.tight_layout()\n",
        "plt.show()"
      ]
    },
    {
      "cell_type": "code",
      "execution_count": 9,
      "metadata": {
        "colab": {
          "base_uri": "https://localhost:8080/"
        },
        "id": "js18ykw7x_fk",
        "outputId": "144e4996-735c-4849-e2c7-271b83a33a3a"
      },
      "outputs": [
        {
          "name": "stdout",
          "output_type": "stream",
          "text": [
            "Training count: 47164, Validation count: 5895, Test count: 5895\n"
          ]
        }
      ],
      "source": [
        "val_frac = 0.10\n",
        "test_frac = 0.10\n",
        "length = len(image_files_list)\n",
        "indices = np.arange(length)\n",
        "np.random.shuffle(indices)\n",
        "\n",
        "test_split = int(test_frac * length)\n",
        "val_split = int(val_frac * length) + test_split\n",
        "test_indices = indices[:test_split]\n",
        "val_indices = indices[test_split:val_split]\n",
        "train_indices = indices[val_split:]\n",
        "\n",
        "train_x = [image_files_list[i] for i in train_indices]\n",
        "train_y = [image_class[i] for i in train_indices]\n",
        "val_x = [image_files_list[i] for i in val_indices]\n",
        "val_y = [image_class[i] for i in val_indices]\n",
        "test_x = [image_files_list[i] for i in test_indices]\n",
        "test_y = [image_class[i] for i in test_indices]\n",
        "\n",
        "print(f\"Training count: {len(train_x)}, Validation count: \" f\"{len(val_x)}, Test count: {len(test_x)}\")"
      ]
    },
    {
      "cell_type": "code",
      "execution_count": 10,
      "metadata": {
        "id": "PdNimJO5x_fk"
      },
      "outputs": [],
      "source": [
        "# Adding data augmentation\n",
        "train_transforms = Compose(\n",
        "    [\n",
        "        LoadImage(image_only=True),\n",
        "        EnsureChannelFirst(),\n",
        "        ScaleIntensity(),\n",
        "\n",
        "        RandRotate(range_x=np.pi / 12, prob=0.5, keep_size=True),\n",
        "        RandFlip(spatial_axis=0, prob=0.5),\n",
        "        RandZoom(min_zoom=0.9, max_zoom=1.1, prob=0.5),\n",
        "\n",
        "        RandGaussianNoise(prob=0.3, mean=0.0, std=0.01), # adding more noise\n",
        "        RandGaussianSmooth(prob=0.2, sigma_x=(0.5, 1.0), sigma_y=(0.5, 1.0)), # adding bluriness\n",
        "    ]\n",
        ")\n",
        "\n",
        "val_transforms = Compose([LoadImage(image_only=True), EnsureChannelFirst(), ScaleIntensity()])\n",
        "\n",
        "y_pred_trans = Compose([Activations(softmax=True)])\n",
        "y_trans = Compose([AsDiscrete(to_onehot=num_class)])"
      ]
    },
    {
      "cell_type": "code",
      "execution_count": 11,
      "metadata": {
        "id": "4_EIcQNcx_fk"
      },
      "outputs": [],
      "source": [
        "class MedNISTDataset(torch.utils.data.Dataset):\n",
        "    def __init__(self, image_files, labels, transforms):\n",
        "        self.image_files = image_files\n",
        "        self.labels = labels\n",
        "        self.transforms = transforms\n",
        "\n",
        "    def __len__(self):\n",
        "        return len(self.image_files)\n",
        "\n",
        "    def __getitem__(self, index):\n",
        "        return self.transforms(self.image_files[index]), self.labels[index]\n",
        "\n",
        "\n",
        "train_ds = MedNISTDataset(train_x, train_y, train_transforms)\n",
        "train_loader = DataLoader(train_ds, batch_size=500, shuffle=True, num_workers=10)\n",
        "\n",
        "val_ds = MedNISTDataset(val_x, val_y, val_transforms)\n",
        "val_loader = DataLoader(val_ds, batch_size=400, num_workers=10)\n",
        "\n",
        "test_ds = MedNISTDataset(test_x, test_y, val_transforms)\n",
        "test_loader = DataLoader(test_ds, batch_size=100, num_workers=0)"
      ]
    },
    {
      "cell_type": "markdown",
      "metadata": {
        "id": "uRchlcu-Fb9b"
      },
      "source": [
        "## Training Model"
      ]
    },
    {
      "cell_type": "code",
      "execution_count": 10,
      "metadata": {
        "id": "fCVEZd7bx_fk"
      },
      "outputs": [],
      "source": [
        "from monai.networks.nets import resnet50\n",
        "import torch.nn as nn\n",
        "\n",
        "device = \"cuda\" if torch.cuda.is_available() else \"cpu\"\n",
        "model = resnet50(spatial_dims=2, n_input_channels=1, num_classes=num_class).to(device)\n",
        "\n",
        "model.fc = nn.Sequential(\n",
        "    nn.Linear(in_features=2048, out_features=1024, bias=True),\n",
        "    nn.SiLU(),\n",
        "    nn.Dropout(0.01),\n",
        "    nn.Linear(in_features=1024, out_features=6, bias=True)\n",
        ")\n",
        "\n",
        "def replace_relu_with_silu(module):\n",
        "    for name, child in module.named_children():\n",
        "        if isinstance(child, nn.ReLU):\n",
        "            setattr(module, name, nn.SiLU())\n",
        "        else:\n",
        "            replace_relu_with_silu(child)\n",
        "\n",
        "replace_relu_with_silu(model)"
      ]
    },
    {
      "cell_type": "code",
      "execution_count": 11,
      "metadata": {
        "id": "NPdkUU0TMd5o"
      },
      "outputs": [],
      "source": [
        "loss_function = torch.nn.CrossEntropyLoss()\n",
        "max_epochs = 4\n",
        "\n",
        "optimizer = torch.optim.SGD(\n",
        "    model.parameters(),\n",
        "    lr=1e-2,\n",
        "    momentum=0.9,\n",
        "    weight_decay=1e-4\n",
        ")\n",
        "\n",
        "scheduler = torch.optim.lr_scheduler.CosineAnnealingLR(\n",
        "    optimizer,\n",
        "    T_max=max_epochs)\n",
        "val_interval = 1\n",
        "auc_metric = ROCAUCMetric()"
      ]
    },
    {
      "cell_type": "code",
      "execution_count": 12,
      "metadata": {
        "colab": {
          "base_uri": "https://localhost:8080/"
        },
        "id": "LWf46Bqwx_fk",
        "outputId": "8da4148c-8041-452a-90c8-842f99e413ca"
      },
      "outputs": [
        {
          "data": {
            "text/plain": [
              "ResNet(\n",
              "  (conv1): Conv2d(1, 64, kernel_size=(7, 7), stride=(1, 1), padding=(3, 3), bias=False)\n",
              "  (bn1): BatchNorm2d(64, eps=1e-05, momentum=0.1, affine=True, track_running_stats=True)\n",
              "  (act): SiLU()\n",
              "  (maxpool): MaxPool2d(kernel_size=3, stride=2, padding=1, dilation=1, ceil_mode=False)\n",
              "  (layer1): Sequential(\n",
              "    (0): ResNetBottleneck(\n",
              "      (conv1): Conv2d(64, 64, kernel_size=(1, 1), stride=(1, 1), bias=False)\n",
              "      (bn1): BatchNorm2d(64, eps=1e-05, momentum=0.1, affine=True, track_running_stats=True)\n",
              "      (conv2): Conv2d(64, 64, kernel_size=(3, 3), stride=(1, 1), padding=(1, 1), bias=False)\n",
              "      (bn2): BatchNorm2d(64, eps=1e-05, momentum=0.1, affine=True, track_running_stats=True)\n",
              "      (conv3): Conv2d(64, 256, kernel_size=(1, 1), stride=(1, 1), bias=False)\n",
              "      (bn3): BatchNorm2d(256, eps=1e-05, momentum=0.1, affine=True, track_running_stats=True)\n",
              "      (act): SiLU()\n",
              "      (downsample): Sequential(\n",
              "        (0): Conv2d(64, 256, kernel_size=(1, 1), stride=(1, 1))\n",
              "        (1): BatchNorm2d(256, eps=1e-05, momentum=0.1, affine=True, track_running_stats=True)\n",
              "      )\n",
              "    )\n",
              "    (1): ResNetBottleneck(\n",
              "      (conv1): Conv2d(256, 64, kernel_size=(1, 1), stride=(1, 1), bias=False)\n",
              "      (bn1): BatchNorm2d(64, eps=1e-05, momentum=0.1, affine=True, track_running_stats=True)\n",
              "      (conv2): Conv2d(64, 64, kernel_size=(3, 3), stride=(1, 1), padding=(1, 1), bias=False)\n",
              "      (bn2): BatchNorm2d(64, eps=1e-05, momentum=0.1, affine=True, track_running_stats=True)\n",
              "      (conv3): Conv2d(64, 256, kernel_size=(1, 1), stride=(1, 1), bias=False)\n",
              "      (bn3): BatchNorm2d(256, eps=1e-05, momentum=0.1, affine=True, track_running_stats=True)\n",
              "      (act): SiLU()\n",
              "    )\n",
              "    (2): ResNetBottleneck(\n",
              "      (conv1): Conv2d(256, 64, kernel_size=(1, 1), stride=(1, 1), bias=False)\n",
              "      (bn1): BatchNorm2d(64, eps=1e-05, momentum=0.1, affine=True, track_running_stats=True)\n",
              "      (conv2): Conv2d(64, 64, kernel_size=(3, 3), stride=(1, 1), padding=(1, 1), bias=False)\n",
              "      (bn2): BatchNorm2d(64, eps=1e-05, momentum=0.1, affine=True, track_running_stats=True)\n",
              "      (conv3): Conv2d(64, 256, kernel_size=(1, 1), stride=(1, 1), bias=False)\n",
              "      (bn3): BatchNorm2d(256, eps=1e-05, momentum=0.1, affine=True, track_running_stats=True)\n",
              "      (act): SiLU()\n",
              "    )\n",
              "  )\n",
              "  (layer2): Sequential(\n",
              "    (0): ResNetBottleneck(\n",
              "      (conv1): Conv2d(256, 128, kernel_size=(1, 1), stride=(1, 1), bias=False)\n",
              "      (bn1): BatchNorm2d(128, eps=1e-05, momentum=0.1, affine=True, track_running_stats=True)\n",
              "      (conv2): Conv2d(128, 128, kernel_size=(3, 3), stride=(2, 2), padding=(1, 1), bias=False)\n",
              "      (bn2): BatchNorm2d(128, eps=1e-05, momentum=0.1, affine=True, track_running_stats=True)\n",
              "      (conv3): Conv2d(128, 512, kernel_size=(1, 1), stride=(1, 1), bias=False)\n",
              "      (bn3): BatchNorm2d(512, eps=1e-05, momentum=0.1, affine=True, track_running_stats=True)\n",
              "      (act): SiLU()\n",
              "      (downsample): Sequential(\n",
              "        (0): Conv2d(256, 512, kernel_size=(1, 1), stride=(2, 2))\n",
              "        (1): BatchNorm2d(512, eps=1e-05, momentum=0.1, affine=True, track_running_stats=True)\n",
              "      )\n",
              "    )\n",
              "    (1): ResNetBottleneck(\n",
              "      (conv1): Conv2d(512, 128, kernel_size=(1, 1), stride=(1, 1), bias=False)\n",
              "      (bn1): BatchNorm2d(128, eps=1e-05, momentum=0.1, affine=True, track_running_stats=True)\n",
              "      (conv2): Conv2d(128, 128, kernel_size=(3, 3), stride=(1, 1), padding=(1, 1), bias=False)\n",
              "      (bn2): BatchNorm2d(128, eps=1e-05, momentum=0.1, affine=True, track_running_stats=True)\n",
              "      (conv3): Conv2d(128, 512, kernel_size=(1, 1), stride=(1, 1), bias=False)\n",
              "      (bn3): BatchNorm2d(512, eps=1e-05, momentum=0.1, affine=True, track_running_stats=True)\n",
              "      (act): SiLU()\n",
              "    )\n",
              "    (2): ResNetBottleneck(\n",
              "      (conv1): Conv2d(512, 128, kernel_size=(1, 1), stride=(1, 1), bias=False)\n",
              "      (bn1): BatchNorm2d(128, eps=1e-05, momentum=0.1, affine=True, track_running_stats=True)\n",
              "      (conv2): Conv2d(128, 128, kernel_size=(3, 3), stride=(1, 1), padding=(1, 1), bias=False)\n",
              "      (bn2): BatchNorm2d(128, eps=1e-05, momentum=0.1, affine=True, track_running_stats=True)\n",
              "      (conv3): Conv2d(128, 512, kernel_size=(1, 1), stride=(1, 1), bias=False)\n",
              "      (bn3): BatchNorm2d(512, eps=1e-05, momentum=0.1, affine=True, track_running_stats=True)\n",
              "      (act): SiLU()\n",
              "    )\n",
              "    (3): ResNetBottleneck(\n",
              "      (conv1): Conv2d(512, 128, kernel_size=(1, 1), stride=(1, 1), bias=False)\n",
              "      (bn1): BatchNorm2d(128, eps=1e-05, momentum=0.1, affine=True, track_running_stats=True)\n",
              "      (conv2): Conv2d(128, 128, kernel_size=(3, 3), stride=(1, 1), padding=(1, 1), bias=False)\n",
              "      (bn2): BatchNorm2d(128, eps=1e-05, momentum=0.1, affine=True, track_running_stats=True)\n",
              "      (conv3): Conv2d(128, 512, kernel_size=(1, 1), stride=(1, 1), bias=False)\n",
              "      (bn3): BatchNorm2d(512, eps=1e-05, momentum=0.1, affine=True, track_running_stats=True)\n",
              "      (act): SiLU()\n",
              "    )\n",
              "  )\n",
              "  (layer3): Sequential(\n",
              "    (0): ResNetBottleneck(\n",
              "      (conv1): Conv2d(512, 256, kernel_size=(1, 1), stride=(1, 1), bias=False)\n",
              "      (bn1): BatchNorm2d(256, eps=1e-05, momentum=0.1, affine=True, track_running_stats=True)\n",
              "      (conv2): Conv2d(256, 256, kernel_size=(3, 3), stride=(2, 2), padding=(1, 1), bias=False)\n",
              "      (bn2): BatchNorm2d(256, eps=1e-05, momentum=0.1, affine=True, track_running_stats=True)\n",
              "      (conv3): Conv2d(256, 1024, kernel_size=(1, 1), stride=(1, 1), bias=False)\n",
              "      (bn3): BatchNorm2d(1024, eps=1e-05, momentum=0.1, affine=True, track_running_stats=True)\n",
              "      (act): SiLU()\n",
              "      (downsample): Sequential(\n",
              "        (0): Conv2d(512, 1024, kernel_size=(1, 1), stride=(2, 2))\n",
              "        (1): BatchNorm2d(1024, eps=1e-05, momentum=0.1, affine=True, track_running_stats=True)\n",
              "      )\n",
              "    )\n",
              "    (1): ResNetBottleneck(\n",
              "      (conv1): Conv2d(1024, 256, kernel_size=(1, 1), stride=(1, 1), bias=False)\n",
              "      (bn1): BatchNorm2d(256, eps=1e-05, momentum=0.1, affine=True, track_running_stats=True)\n",
              "      (conv2): Conv2d(256, 256, kernel_size=(3, 3), stride=(1, 1), padding=(1, 1), bias=False)\n",
              "      (bn2): BatchNorm2d(256, eps=1e-05, momentum=0.1, affine=True, track_running_stats=True)\n",
              "      (conv3): Conv2d(256, 1024, kernel_size=(1, 1), stride=(1, 1), bias=False)\n",
              "      (bn3): BatchNorm2d(1024, eps=1e-05, momentum=0.1, affine=True, track_running_stats=True)\n",
              "      (act): SiLU()\n",
              "    )\n",
              "    (2): ResNetBottleneck(\n",
              "      (conv1): Conv2d(1024, 256, kernel_size=(1, 1), stride=(1, 1), bias=False)\n",
              "      (bn1): BatchNorm2d(256, eps=1e-05, momentum=0.1, affine=True, track_running_stats=True)\n",
              "      (conv2): Conv2d(256, 256, kernel_size=(3, 3), stride=(1, 1), padding=(1, 1), bias=False)\n",
              "      (bn2): BatchNorm2d(256, eps=1e-05, momentum=0.1, affine=True, track_running_stats=True)\n",
              "      (conv3): Conv2d(256, 1024, kernel_size=(1, 1), stride=(1, 1), bias=False)\n",
              "      (bn3): BatchNorm2d(1024, eps=1e-05, momentum=0.1, affine=True, track_running_stats=True)\n",
              "      (act): SiLU()\n",
              "    )\n",
              "    (3): ResNetBottleneck(\n",
              "      (conv1): Conv2d(1024, 256, kernel_size=(1, 1), stride=(1, 1), bias=False)\n",
              "      (bn1): BatchNorm2d(256, eps=1e-05, momentum=0.1, affine=True, track_running_stats=True)\n",
              "      (conv2): Conv2d(256, 256, kernel_size=(3, 3), stride=(1, 1), padding=(1, 1), bias=False)\n",
              "      (bn2): BatchNorm2d(256, eps=1e-05, momentum=0.1, affine=True, track_running_stats=True)\n",
              "      (conv3): Conv2d(256, 1024, kernel_size=(1, 1), stride=(1, 1), bias=False)\n",
              "      (bn3): BatchNorm2d(1024, eps=1e-05, momentum=0.1, affine=True, track_running_stats=True)\n",
              "      (act): SiLU()\n",
              "    )\n",
              "    (4): ResNetBottleneck(\n",
              "      (conv1): Conv2d(1024, 256, kernel_size=(1, 1), stride=(1, 1), bias=False)\n",
              "      (bn1): BatchNorm2d(256, eps=1e-05, momentum=0.1, affine=True, track_running_stats=True)\n",
              "      (conv2): Conv2d(256, 256, kernel_size=(3, 3), stride=(1, 1), padding=(1, 1), bias=False)\n",
              "      (bn2): BatchNorm2d(256, eps=1e-05, momentum=0.1, affine=True, track_running_stats=True)\n",
              "      (conv3): Conv2d(256, 1024, kernel_size=(1, 1), stride=(1, 1), bias=False)\n",
              "      (bn3): BatchNorm2d(1024, eps=1e-05, momentum=0.1, affine=True, track_running_stats=True)\n",
              "      (act): SiLU()\n",
              "    )\n",
              "    (5): ResNetBottleneck(\n",
              "      (conv1): Conv2d(1024, 256, kernel_size=(1, 1), stride=(1, 1), bias=False)\n",
              "      (bn1): BatchNorm2d(256, eps=1e-05, momentum=0.1, affine=True, track_running_stats=True)\n",
              "      (conv2): Conv2d(256, 256, kernel_size=(3, 3), stride=(1, 1), padding=(1, 1), bias=False)\n",
              "      (bn2): BatchNorm2d(256, eps=1e-05, momentum=0.1, affine=True, track_running_stats=True)\n",
              "      (conv3): Conv2d(256, 1024, kernel_size=(1, 1), stride=(1, 1), bias=False)\n",
              "      (bn3): BatchNorm2d(1024, eps=1e-05, momentum=0.1, affine=True, track_running_stats=True)\n",
              "      (act): SiLU()\n",
              "    )\n",
              "  )\n",
              "  (layer4): Sequential(\n",
              "    (0): ResNetBottleneck(\n",
              "      (conv1): Conv2d(1024, 512, kernel_size=(1, 1), stride=(1, 1), bias=False)\n",
              "      (bn1): BatchNorm2d(512, eps=1e-05, momentum=0.1, affine=True, track_running_stats=True)\n",
              "      (conv2): Conv2d(512, 512, kernel_size=(3, 3), stride=(2, 2), padding=(1, 1), bias=False)\n",
              "      (bn2): BatchNorm2d(512, eps=1e-05, momentum=0.1, affine=True, track_running_stats=True)\n",
              "      (conv3): Conv2d(512, 2048, kernel_size=(1, 1), stride=(1, 1), bias=False)\n",
              "      (bn3): BatchNorm2d(2048, eps=1e-05, momentum=0.1, affine=True, track_running_stats=True)\n",
              "      (act): SiLU()\n",
              "      (downsample): Sequential(\n",
              "        (0): Conv2d(1024, 2048, kernel_size=(1, 1), stride=(2, 2))\n",
              "        (1): BatchNorm2d(2048, eps=1e-05, momentum=0.1, affine=True, track_running_stats=True)\n",
              "      )\n",
              "    )\n",
              "    (1): ResNetBottleneck(\n",
              "      (conv1): Conv2d(2048, 512, kernel_size=(1, 1), stride=(1, 1), bias=False)\n",
              "      (bn1): BatchNorm2d(512, eps=1e-05, momentum=0.1, affine=True, track_running_stats=True)\n",
              "      (conv2): Conv2d(512, 512, kernel_size=(3, 3), stride=(1, 1), padding=(1, 1), bias=False)\n",
              "      (bn2): BatchNorm2d(512, eps=1e-05, momentum=0.1, affine=True, track_running_stats=True)\n",
              "      (conv3): Conv2d(512, 2048, kernel_size=(1, 1), stride=(1, 1), bias=False)\n",
              "      (bn3): BatchNorm2d(2048, eps=1e-05, momentum=0.1, affine=True, track_running_stats=True)\n",
              "      (act): SiLU()\n",
              "    )\n",
              "    (2): ResNetBottleneck(\n",
              "      (conv1): Conv2d(2048, 512, kernel_size=(1, 1), stride=(1, 1), bias=False)\n",
              "      (bn1): BatchNorm2d(512, eps=1e-05, momentum=0.1, affine=True, track_running_stats=True)\n",
              "      (conv2): Conv2d(512, 512, kernel_size=(3, 3), stride=(1, 1), padding=(1, 1), bias=False)\n",
              "      (bn2): BatchNorm2d(512, eps=1e-05, momentum=0.1, affine=True, track_running_stats=True)\n",
              "      (conv3): Conv2d(512, 2048, kernel_size=(1, 1), stride=(1, 1), bias=False)\n",
              "      (bn3): BatchNorm2d(2048, eps=1e-05, momentum=0.1, affine=True, track_running_stats=True)\n",
              "      (act): SiLU()\n",
              "    )\n",
              "  )\n",
              "  (avgpool): AdaptiveAvgPool2d(output_size=(1, 1))\n",
              "  (fc): Sequential(\n",
              "    (0): Linear(in_features=2048, out_features=1024, bias=True)\n",
              "    (1): SiLU()\n",
              "    (2): Dropout(p=0.01, inplace=False)\n",
              "    (3): Linear(in_features=1024, out_features=6, bias=True)\n",
              "  )\n",
              ")"
            ]
          },
          "execution_count": 12,
          "metadata": {},
          "output_type": "execute_result"
        }
      ],
      "source": [
        "model.to(device)"
      ]
    },
    {
      "cell_type": "code",
      "execution_count": 13,
      "metadata": {
        "colab": {
          "base_uri": "https://localhost:8080/"
        },
        "id": "b0dT5uL4x_fl",
        "outputId": "3570fd8f-c2cd-421f-e16b-ffa5dc7c7ff4"
      },
      "outputs": [
        {
          "name": "stdout",
          "output_type": "stream",
          "text": [
            "----------\n",
            "Epoch 1/4\n",
            "1/94, train_loss: 1.8321\n",
            "2/94, train_loss: 1.7212\n",
            "3/94, train_loss: 1.7129\n",
            "4/94, train_loss: 1.6979\n",
            "5/94, train_loss: 1.6788\n",
            "6/94, train_loss: 1.6637\n",
            "7/94, train_loss: 1.6496\n",
            "8/94, train_loss: 1.6707\n",
            "9/94, train_loss: 1.6248\n",
            "10/94, train_loss: 1.6238\n",
            "11/94, train_loss: 1.5944\n",
            "12/94, train_loss: 1.5692\n",
            "13/94, train_loss: 1.5794\n",
            "14/94, train_loss: 1.5536\n",
            "15/94, train_loss: 1.5484\n",
            "16/94, train_loss: 1.5122\n",
            "17/94, train_loss: 1.5135\n",
            "18/94, train_loss: 1.4880\n",
            "19/94, train_loss: 1.5061\n",
            "20/94, train_loss: 1.4899\n",
            "21/94, train_loss: 1.4675\n",
            "22/94, train_loss: 1.4392\n",
            "23/94, train_loss: 1.4343\n",
            "24/94, train_loss: 1.4583\n",
            "25/94, train_loss: 1.4436\n",
            "26/94, train_loss: 1.4066\n",
            "27/94, train_loss: 1.3737\n",
            "28/94, train_loss: 1.3775\n",
            "29/94, train_loss: 1.3897\n",
            "30/94, train_loss: 1.3898\n",
            "31/94, train_loss: 1.3415\n",
            "32/94, train_loss: 1.3733\n",
            "33/94, train_loss: 1.3197\n",
            "34/94, train_loss: 1.3163\n",
            "35/94, train_loss: 1.3309\n",
            "36/94, train_loss: 1.2943\n",
            "37/94, train_loss: 1.2901\n",
            "38/94, train_loss: 1.2918\n",
            "39/94, train_loss: 1.2540\n",
            "40/94, train_loss: 1.3227\n",
            "41/94, train_loss: 1.2448\n",
            "42/94, train_loss: 1.2229\n",
            "43/94, train_loss: 1.2265\n",
            "44/94, train_loss: 1.2168\n",
            "45/94, train_loss: 1.2131\n",
            "46/94, train_loss: 1.2251\n",
            "47/94, train_loss: 1.2433\n",
            "48/94, train_loss: 1.2101\n",
            "49/94, train_loss: 1.1870\n",
            "50/94, train_loss: 1.1961\n",
            "51/94, train_loss: 1.1498\n",
            "52/94, train_loss: 1.1327\n",
            "53/94, train_loss: 1.1389\n",
            "54/94, train_loss: 1.1190\n",
            "55/94, train_loss: 1.1232\n",
            "56/94, train_loss: 1.1588\n",
            "57/94, train_loss: 1.0544\n",
            "58/94, train_loss: 1.0883\n",
            "59/94, train_loss: 1.1473\n",
            "60/94, train_loss: 1.0910\n",
            "61/94, train_loss: 1.0994\n",
            "62/94, train_loss: 1.1022\n",
            "63/94, train_loss: 1.0441\n",
            "64/94, train_loss: 1.0430\n",
            "65/94, train_loss: 1.0428\n",
            "66/94, train_loss: 1.1202\n",
            "67/94, train_loss: 1.0346\n",
            "68/94, train_loss: 0.9952\n",
            "69/94, train_loss: 0.9686\n",
            "70/94, train_loss: 1.0395\n",
            "71/94, train_loss: 0.9737\n",
            "72/94, train_loss: 0.9669\n",
            "73/94, train_loss: 0.9423\n",
            "74/94, train_loss: 0.9613\n",
            "75/94, train_loss: 0.9098\n",
            "76/94, train_loss: 1.0079\n",
            "77/94, train_loss: 0.9476\n",
            "78/94, train_loss: 0.9285\n",
            "79/94, train_loss: 0.9177\n",
            "80/94, train_loss: 0.8859\n",
            "81/94, train_loss: 0.8894\n",
            "82/94, train_loss: 0.8877\n",
            "83/94, train_loss: 0.8368\n",
            "84/94, train_loss: 0.8423\n",
            "85/94, train_loss: 0.8534\n",
            "86/94, train_loss: 0.8051\n",
            "87/94, train_loss: 0.7638\n",
            "88/94, train_loss: 0.6870\n",
            "89/94, train_loss: 0.8289\n",
            "90/94, train_loss: 0.7215\n",
            "91/94, train_loss: 0.7628\n",
            "92/94, train_loss: 0.6056\n",
            "93/94, train_loss: 0.6837\n",
            "94/94, train_loss: 0.6731\n",
            "95/94, train_loss: 0.6989\n",
            "Epoch 1 average loss: 1.2043\n",
            "saved new best metric model\n",
            "current epoch: 1 current AUC: 0.8836 current accuracy: 0.7170 best AUC: 0.8836 at epoch: 1\n",
            "----------\n",
            "Epoch 2/4\n",
            "1/94, train_loss: 0.5819\n",
            "2/94, train_loss: 0.6334\n",
            "3/94, train_loss: 0.5681\n",
            "4/94, train_loss: 0.5549\n",
            "5/94, train_loss: 0.5967\n",
            "6/94, train_loss: 0.5613\n",
            "7/94, train_loss: 0.6173\n",
            "8/94, train_loss: 0.5635\n",
            "9/94, train_loss: 0.5517\n",
            "10/94, train_loss: 0.4689\n",
            "11/94, train_loss: 0.5167\n",
            "12/94, train_loss: 0.3646\n",
            "13/94, train_loss: 0.5048\n",
            "14/94, train_loss: 0.4449\n",
            "15/94, train_loss: 0.4612\n",
            "16/94, train_loss: 0.4630\n",
            "17/94, train_loss: 0.3948\n",
            "18/94, train_loss: 0.4396\n",
            "19/94, train_loss: 0.3825\n",
            "20/94, train_loss: 0.3104\n",
            "21/94, train_loss: 0.3196\n",
            "22/94, train_loss: 0.3473\n",
            "23/94, train_loss: 0.3585\n",
            "24/94, train_loss: 0.4144\n",
            "25/94, train_loss: 0.2922\n",
            "26/94, train_loss: 0.3454\n",
            "27/94, train_loss: 0.3282\n",
            "28/94, train_loss: 0.4350\n",
            "29/94, train_loss: 0.3188\n",
            "30/94, train_loss: 0.2786\n",
            "31/94, train_loss: 0.2631\n",
            "32/94, train_loss: 0.3052\n",
            "33/94, train_loss: 0.2979\n",
            "34/94, train_loss: 0.2259\n",
            "35/94, train_loss: 0.2737\n",
            "36/94, train_loss: 0.2717\n",
            "37/94, train_loss: 0.2139\n",
            "38/94, train_loss: 0.3091\n",
            "39/94, train_loss: 0.2237\n",
            "40/94, train_loss: 0.2267\n",
            "41/94, train_loss: 0.1887\n",
            "42/94, train_loss: 0.1777\n",
            "43/94, train_loss: 0.2133\n",
            "44/94, train_loss: 0.2610\n",
            "45/94, train_loss: 0.2696\n",
            "46/94, train_loss: 0.2298\n",
            "47/94, train_loss: 0.2881\n",
            "48/94, train_loss: 0.1967\n",
            "49/94, train_loss: 0.2100\n",
            "50/94, train_loss: 0.1937\n",
            "51/94, train_loss: 0.1903\n",
            "52/94, train_loss: 0.1981\n",
            "53/94, train_loss: 0.1915\n",
            "54/94, train_loss: 0.2368\n",
            "55/94, train_loss: 0.2241\n",
            "56/94, train_loss: 0.2140\n",
            "57/94, train_loss: 0.2073\n",
            "58/94, train_loss: 0.1804\n",
            "59/94, train_loss: 0.2243\n",
            "60/94, train_loss: 0.2315\n",
            "61/94, train_loss: 0.2305\n",
            "62/94, train_loss: 0.1947\n",
            "63/94, train_loss: 0.2145\n",
            "64/94, train_loss: 0.2780\n",
            "65/94, train_loss: 0.1759\n",
            "66/94, train_loss: 0.1621\n",
            "67/94, train_loss: 0.1311\n",
            "68/94, train_loss: 0.1949\n",
            "69/94, train_loss: 0.2072\n",
            "70/94, train_loss: 0.1662\n",
            "71/94, train_loss: 0.1516\n",
            "72/94, train_loss: 0.1878\n",
            "73/94, train_loss: 0.1778\n",
            "74/94, train_loss: 0.1408\n",
            "75/94, train_loss: 0.1625\n",
            "76/94, train_loss: 0.1311\n",
            "77/94, train_loss: 0.1275\n",
            "78/94, train_loss: 0.1425\n",
            "79/94, train_loss: 0.1321\n",
            "80/94, train_loss: 0.1253\n",
            "81/94, train_loss: 0.1338\n",
            "82/94, train_loss: 0.1413\n",
            "83/94, train_loss: 0.1251\n",
            "84/94, train_loss: 0.1514\n",
            "85/94, train_loss: 0.1367\n",
            "86/94, train_loss: 0.1461\n",
            "87/94, train_loss: 0.1842\n",
            "88/94, train_loss: 0.1143\n",
            "89/94, train_loss: 0.2225\n",
            "90/94, train_loss: 0.1366\n",
            "91/94, train_loss: 0.1604\n",
            "92/94, train_loss: 0.1698\n",
            "93/94, train_loss: 0.1162\n",
            "94/94, train_loss: 0.1401\n",
            "95/94, train_loss: 0.0880\n",
            "Epoch 2 average loss: 0.2732\n",
            "saved new best metric model\n",
            "current epoch: 2 current AUC: 0.9952 current accuracy: 0.9666 best AUC: 0.9952 at epoch: 2\n",
            "----------\n",
            "Epoch 3/4\n",
            "1/94, train_loss: 0.0971\n",
            "2/94, train_loss: 0.1369\n",
            "3/94, train_loss: 0.1019\n",
            "4/94, train_loss: 0.1026\n",
            "5/94, train_loss: 0.1239\n",
            "6/94, train_loss: 0.1779\n",
            "7/94, train_loss: 0.1189\n",
            "8/94, train_loss: 0.1479\n",
            "9/94, train_loss: 0.1117\n",
            "10/94, train_loss: 0.0863\n",
            "11/94, train_loss: 0.0787\n",
            "12/94, train_loss: 0.1145\n",
            "13/94, train_loss: 0.1633\n",
            "14/94, train_loss: 0.1127\n",
            "15/94, train_loss: 0.0906\n",
            "16/94, train_loss: 0.1160\n",
            "17/94, train_loss: 0.1239\n",
            "18/94, train_loss: 0.1499\n",
            "19/94, train_loss: 0.1113\n",
            "20/94, train_loss: 0.0932\n",
            "21/94, train_loss: 0.0943\n",
            "22/94, train_loss: 0.0849\n",
            "23/94, train_loss: 0.1350\n",
            "24/94, train_loss: 0.1299\n",
            "25/94, train_loss: 0.1139\n",
            "26/94, train_loss: 0.1049\n",
            "27/94, train_loss: 0.0804\n",
            "28/94, train_loss: 0.0844\n",
            "29/94, train_loss: 0.1029\n",
            "30/94, train_loss: 0.1166\n",
            "31/94, train_loss: 0.1151\n",
            "32/94, train_loss: 0.1098\n",
            "33/94, train_loss: 0.1212\n",
            "34/94, train_loss: 0.1059\n",
            "35/94, train_loss: 0.0679\n",
            "36/94, train_loss: 0.0898\n",
            "37/94, train_loss: 0.0737\n",
            "38/94, train_loss: 0.1260\n",
            "39/94, train_loss: 0.1105\n",
            "40/94, train_loss: 0.1191\n",
            "41/94, train_loss: 0.0823\n",
            "42/94, train_loss: 0.1019\n",
            "43/94, train_loss: 0.0847\n",
            "44/94, train_loss: 0.0740\n",
            "45/94, train_loss: 0.0720\n",
            "46/94, train_loss: 0.1204\n",
            "47/94, train_loss: 0.0606\n",
            "48/94, train_loss: 0.1085\n",
            "49/94, train_loss: 0.0693\n",
            "50/94, train_loss: 0.1071\n",
            "51/94, train_loss: 0.0676\n",
            "52/94, train_loss: 0.1139\n",
            "53/94, train_loss: 0.0710\n",
            "54/94, train_loss: 0.1002\n",
            "55/94, train_loss: 0.0645\n",
            "56/94, train_loss: 0.0665\n",
            "57/94, train_loss: 0.0644\n",
            "58/94, train_loss: 0.0859\n",
            "59/94, train_loss: 0.0886\n",
            "60/94, train_loss: 0.0664\n",
            "61/94, train_loss: 0.0962\n",
            "62/94, train_loss: 0.0824\n",
            "63/94, train_loss: 0.0595\n",
            "64/94, train_loss: 0.0555\n",
            "65/94, train_loss: 0.0788\n",
            "66/94, train_loss: 0.1006\n",
            "67/94, train_loss: 0.0729\n",
            "68/94, train_loss: 0.1241\n",
            "69/94, train_loss: 0.0794\n",
            "70/94, train_loss: 0.0680\n",
            "71/94, train_loss: 0.0785\n",
            "72/94, train_loss: 0.0826\n",
            "73/94, train_loss: 0.0640\n",
            "74/94, train_loss: 0.0712\n",
            "75/94, train_loss: 0.0549\n",
            "76/94, train_loss: 0.0537\n",
            "77/94, train_loss: 0.1129\n",
            "78/94, train_loss: 0.0893\n",
            "79/94, train_loss: 0.1081\n",
            "80/94, train_loss: 0.0798\n",
            "81/94, train_loss: 0.0720\n",
            "82/94, train_loss: 0.0899\n",
            "83/94, train_loss: 0.0677\n",
            "84/94, train_loss: 0.0733\n",
            "85/94, train_loss: 0.0614\n",
            "86/94, train_loss: 0.0587\n",
            "87/94, train_loss: 0.1096\n",
            "88/94, train_loss: 0.0825\n",
            "89/94, train_loss: 0.1014\n",
            "90/94, train_loss: 0.0919\n",
            "91/94, train_loss: 0.0466\n",
            "92/94, train_loss: 0.0446\n",
            "93/94, train_loss: 0.0654\n",
            "94/94, train_loss: 0.0792\n",
            "95/94, train_loss: 0.1088\n",
            "Epoch 3 average loss: 0.0935\n",
            "saved new best metric model\n",
            "current epoch: 3 current AUC: 0.9978 current accuracy: 0.9849 best AUC: 0.9978 at epoch: 3\n",
            "----------\n",
            "Epoch 4/4\n",
            "1/94, train_loss: 0.0686\n",
            "2/94, train_loss: 0.0761\n",
            "3/94, train_loss: 0.0669\n",
            "4/94, train_loss: 0.0915\n",
            "5/94, train_loss: 0.0787\n",
            "6/94, train_loss: 0.1006\n",
            "7/94, train_loss: 0.0623\n",
            "8/94, train_loss: 0.0646\n",
            "9/94, train_loss: 0.0586\n",
            "10/94, train_loss: 0.0800\n",
            "11/94, train_loss: 0.0648\n",
            "12/94, train_loss: 0.0723\n",
            "13/94, train_loss: 0.0550\n",
            "14/94, train_loss: 0.0385\n",
            "15/94, train_loss: 0.0719\n",
            "16/94, train_loss: 0.0795\n",
            "17/94, train_loss: 0.0507\n",
            "18/94, train_loss: 0.0533\n",
            "19/94, train_loss: 0.0576\n",
            "20/94, train_loss: 0.0644\n",
            "21/94, train_loss: 0.0928\n",
            "22/94, train_loss: 0.0883\n",
            "23/94, train_loss: 0.0517\n",
            "24/94, train_loss: 0.0352\n",
            "25/94, train_loss: 0.0552\n",
            "26/94, train_loss: 0.0686\n",
            "27/94, train_loss: 0.0644\n",
            "28/94, train_loss: 0.0443\n",
            "29/94, train_loss: 0.0606\n",
            "30/94, train_loss: 0.0883\n",
            "31/94, train_loss: 0.0465\n",
            "32/94, train_loss: 0.0434\n",
            "33/94, train_loss: 0.0486\n",
            "34/94, train_loss: 0.0571\n",
            "35/94, train_loss: 0.0510\n",
            "36/94, train_loss: 0.0666\n",
            "37/94, train_loss: 0.0739\n",
            "38/94, train_loss: 0.0709\n",
            "39/94, train_loss: 0.0460\n",
            "40/94, train_loss: 0.0682\n",
            "41/94, train_loss: 0.0373\n",
            "42/94, train_loss: 0.0704\n",
            "43/94, train_loss: 0.0643\n",
            "44/94, train_loss: 0.0700\n",
            "45/94, train_loss: 0.0602\n",
            "46/94, train_loss: 0.0497\n",
            "47/94, train_loss: 0.0520\n",
            "48/94, train_loss: 0.0684\n",
            "49/94, train_loss: 0.0489\n",
            "50/94, train_loss: 0.0720\n",
            "51/94, train_loss: 0.0472\n",
            "52/94, train_loss: 0.0452\n",
            "53/94, train_loss: 0.0209\n",
            "54/94, train_loss: 0.0539\n",
            "55/94, train_loss: 0.0556\n",
            "56/94, train_loss: 0.0350\n",
            "57/94, train_loss: 0.0334\n",
            "58/94, train_loss: 0.0679\n",
            "59/94, train_loss: 0.0388\n",
            "60/94, train_loss: 0.1164\n",
            "61/94, train_loss: 0.0546\n",
            "62/94, train_loss: 0.0514\n",
            "63/94, train_loss: 0.0378\n",
            "64/94, train_loss: 0.0444\n",
            "65/94, train_loss: 0.0573\n",
            "66/94, train_loss: 0.0553\n",
            "67/94, train_loss: 0.0707\n",
            "68/94, train_loss: 0.0218\n",
            "69/94, train_loss: 0.0634\n",
            "70/94, train_loss: 0.0476\n",
            "71/94, train_loss: 0.0480\n",
            "72/94, train_loss: 0.0411\n",
            "73/94, train_loss: 0.0371\n",
            "74/94, train_loss: 0.0505\n",
            "75/94, train_loss: 0.0710\n",
            "76/94, train_loss: 0.0685\n",
            "77/94, train_loss: 0.0797\n",
            "78/94, train_loss: 0.0386\n",
            "79/94, train_loss: 0.0617\n",
            "80/94, train_loss: 0.0658\n",
            "81/94, train_loss: 0.0804\n",
            "82/94, train_loss: 0.0662\n",
            "83/94, train_loss: 0.0558\n",
            "84/94, train_loss: 0.0487\n",
            "85/94, train_loss: 0.0684\n",
            "86/94, train_loss: 0.0430\n",
            "87/94, train_loss: 0.0561\n",
            "88/94, train_loss: 0.0379\n",
            "89/94, train_loss: 0.0311\n",
            "90/94, train_loss: 0.0811\n",
            "91/94, train_loss: 0.0538\n",
            "92/94, train_loss: 0.0721\n",
            "93/94, train_loss: 0.0579\n",
            "94/94, train_loss: 0.0334\n",
            "95/94, train_loss: 0.0633\n",
            "Epoch 4 average loss: 0.0589\n",
            "saved new best metric model\n",
            "current epoch: 4 current AUC: 0.9987 current accuracy: 0.9880 best AUC: 0.9987 at epoch: 4\n",
            "train completed, best_metric: 0.9987 at epoch: 4\n"
          ]
        }
      ],
      "source": [
        "best_metric = -1\n",
        "best_metric_epoch = -1\n",
        "epoch_loss_values = []\n",
        "metric_values = []\n",
        "writer = SummaryWriter()\n",
        "\n",
        "for epoch in range(max_epochs):\n",
        "    print(\"-\" * 10)\n",
        "    print(f\"Epoch {epoch + 1}/{max_epochs}\")\n",
        "    model.train()\n",
        "    epoch_loss = 0\n",
        "    step = 0\n",
        "    for batch_data in train_loader:\n",
        "        step += 1\n",
        "        inputs, labels = batch_data[0].to(device), batch_data[1].to(device)\n",
        "        optimizer.zero_grad()\n",
        "        outputs = model(inputs)\n",
        "        loss = loss_function(outputs, labels)\n",
        "        loss.backward()\n",
        "        optimizer.step()\n",
        "        scheduler.step()\n",
        "        epoch_loss += loss.item()\n",
        "        print(f\"{step}/{len(train_ds) // train_loader.batch_size}, \" f\"train_loss: {loss.item():.4f}\")\n",
        "        epoch_len = len(train_ds) // train_loader.batch_size\n",
        "        writer.add_scalar(\"train_loss\", loss.item(), epoch_len * epoch + step)\n",
        "    epoch_loss /= step\n",
        "    epoch_loss_values.append(epoch_loss)\n",
        "    print(f\"Epoch {epoch + 1} average loss: {epoch_loss:.4f}\")\n",
        "\n",
        "    if (epoch + 1) % val_interval == 0:\n",
        "        model.eval()\n",
        "        with torch.no_grad():\n",
        "            y_pred = torch.tensor([], dtype=torch.float32, device=device)\n",
        "            y = torch.tensor([], dtype=torch.long, device=device)\n",
        "            for val_data in val_loader:\n",
        "                val_images, val_labels = (\n",
        "                    val_data[0].to(device),\n",
        "                    val_data[1].to(device),\n",
        "                )\n",
        "                y_pred = torch.cat([y_pred, model(val_images)], dim=0)\n",
        "                y = torch.cat([y, val_labels], dim=0)\n",
        "            y_onehot = [y_trans(i) for i in decollate_batch(y, detach=False)]\n",
        "            y_pred_act = [y_pred_trans(i) for i in decollate_batch(y_pred)]\n",
        "            auc_metric(y_pred_act, y_onehot)\n",
        "            result = auc_metric.aggregate()\n",
        "            auc_metric.reset()\n",
        "            del y_pred_act, y_onehot\n",
        "            metric_values.append(result)\n",
        "            acc_value = torch.eq(y_pred.argmax(dim=1), y)\n",
        "            acc_metric = acc_value.sum().item() / len(acc_value)\n",
        "            if result > best_metric:\n",
        "                best_metric = result\n",
        "                best_metric_epoch = epoch + 1\n",
        "                torch.save(model.state_dict(), os.path.join(root_dir, \"best_metric_model.pth\"))\n",
        "                print(\"saved new best metric model\")\n",
        "            print(\n",
        "                f\"current epoch: {epoch + 1} current AUC: {result:.4f}\"\n",
        "                f\" current accuracy: {acc_metric:.4f}\"\n",
        "                f\" best AUC: {best_metric:.4f}\"\n",
        "                f\" at epoch: {best_metric_epoch}\"\n",
        "            )\n",
        "            writer.add_scalar(\"val_accuracy\", acc_metric, epoch + 1)\n",
        "\n",
        "print(f\"train completed, best_metric: {best_metric:.4f} \" f\"at epoch: {best_metric_epoch}\")\n",
        "writer.close()"
      ]
    },
    {
      "cell_type": "code",
      "execution_count": 14,
      "metadata": {
        "colab": {
          "base_uri": "https://localhost:8080/",
          "height": 502
        },
        "id": "k38yjDKsx_fl",
        "outputId": "84dd710f-5013-4b5b-e3ee-49ca006fa80f"
      },
      "outputs": [
        {
          "data": {
            "image/png": "[encoded data removed]",
            "text/plain": [
              "<Figure size 1200x600 with 2 Axes>"
            ]
          },
          "metadata": {},
          "output_type": "display_data"
        }
      ],
      "source": [
        "plt.figure(\"train\", (12, 6))\n",
        "plt.subplot(1, 2, 1)\n",
        "plt.title(\"Epoch Average Loss\")\n",
        "x = [i + 1 for i in range(len(epoch_loss_values))]\n",
        "y = epoch_loss_values\n",
        "plt.xlabel(\"epoch\")\n",
        "plt.plot(x, y)\n",
        "plt.subplot(1, 2, 2)\n",
        "plt.title(\"Val AUC\")\n",
        "x = [val_interval * (i + 1) for i in range(len(metric_values))]\n",
        "y = metric_values\n",
        "plt.xlabel(\"epoch\")\n",
        "plt.plot(x, y)\n",
        "plt.show()"
      ]
    },
    {
      "cell_type": "code",
      "execution_count": 15,
      "metadata": {
        "id": "Ia4OE1JH7aVJ"
      },
      "outputs": [],
      "source": [
        "model.load_state_dict(torch.load(os.path.join(root_dir, \"best_metric_model.pth\"), weights_only=True))\n",
        "model.eval()\n",
        "y_true = []\n",
        "y_pred = []\n",
        "with torch.no_grad():\n",
        "    for test_data in test_loader:\n",
        "        test_images, test_labels = (\n",
        "            test_data[0].to(device),\n",
        "            test_data[1].to(device),\n",
        "        )\n",
        "        pred = model(test_images).argmax(dim=1)\n",
        "        for i in range(len(pred)):\n",
        "            y_true.append(test_labels[i].item())\n",
        "            y_pred.append(pred[i].item())"
      ]
    },
    {
      "cell_type": "code",
      "execution_count": 16,
      "metadata": {
        "colab": {
          "base_uri": "https://localhost:8080/"
        },
        "id": "agi23m5Qx_fl",
        "outputId": "4e838973-3038-4fa7-8831-f70b5e9db128"
      },
      "outputs": [
        {
          "name": "stdout",
          "output_type": "stream",
          "text": [
            "              precision    recall  f1-score   support\n",
            "\n",
            "   AbdomenCT     0.9884    0.9961    0.9923      1030\n",
            "   BreastMRI     1.0000    1.0000    1.0000       898\n",
            "         CXR     0.9905    0.9957    0.9931       939\n",
            "     ChestCT     0.9470    0.9990    0.9723      1002\n",
            "        Hand     0.9939    0.9868    0.9903       985\n",
            "      HeadCT     0.9969    0.9385    0.9668      1041\n",
            "\n",
            "    accuracy                         0.9854      5895\n",
            "   macro avg     0.9861    0.9860    0.9858      5895\n",
            "weighted avg     0.9859    0.9854    0.9854      5895\n",
            "\n"
          ]
        }
      ],
      "source": [
        "print(classification_report(y_true, y_pred, target_names=class_names, digits=4))"
      ]
    },
    {
      "cell_type": "code",
      "execution_count": 17,
      "metadata": {
        "id": "KcrUy6gqx_fl"
      },
      "outputs": [],
      "source": [
        "if directory is None:\n",
        "    shutil.rmtree(root_dir)"
      ]
    },
    {
      "cell_type": "code",
      "execution_count": 18,
      "metadata": {
        "id": "POqJ2SdeFL3q"
      },
      "outputs": [],
      "source": [
        "model_name = \"resnet50_64x64_data_augmentation_different_architecture+optim\""
      ]
    },
    {
      "cell_type": "code",
      "execution_count": 19,
      "metadata": {
        "id": "YI1DfKMm5ny_"
      },
      "outputs": [],
      "source": [
        "torch.save(model.state_dict(), f\"/content/{model_name}.pth\")"
      ]
    },
    {
      "cell_type": "markdown",
      "metadata": {
        "id": "WSTBT-gXFb9c"
      },
      "source": [
        "## Inference"
      ]
    },
    {
      "cell_type": "code",
      "execution_count": 16,
      "metadata": {
        "id": "ruTWlBlLFb9c"
      },
      "outputs": [],
      "source": [
        "from monai.networks.nets import resnet50\n",
        "import torch.nn as nn\n",
        "\n",
        "device = \"cuda\" if torch.cuda.is_available() else \"cpu\"\n",
        "model = resnet50(spatial_dims=2, n_input_channels=1, num_classes=num_class).to(device)\n",
        "\n",
        "model.fc = nn.Sequential(\n",
        "    nn.Linear(in_features=2048, out_features=1024, bias=True),\n",
        "    nn.SiLU(),\n",
        "    nn.Dropout(0.01),\n",
        "    nn.Linear(in_features=1024, out_features=6, bias=True)\n",
        ")\n",
        "\n",
        "def replace_relu_with_silu(module):\n",
        "    for name, child in module.named_children():\n",
        "        if isinstance(child, nn.ReLU):\n",
        "            setattr(module, name, nn.SiLU())\n",
        "        else:\n",
        "            replace_relu_with_silu(child)\n",
        "\n",
        "replace_relu_with_silu(model)"
      ]
    },
    {
      "cell_type": "code",
      "execution_count": 17,
      "metadata": {
        "id": "VsBtQMWgFb9c"
      },
      "outputs": [],
      "source": [
        "model_name = \"resnet50_64x64_data_augmentation_different_architecture+optim\""
      ]
    },
    {
      "cell_type": "code",
      "execution_count": 18,
      "metadata": {
        "id": "9ncaDCAgFb9c",
        "outputId": "eee659a0-0461-43ff-c00b-9dac63aada19"
      },
      "outputs": [
        {
          "name": "stderr",
          "output_type": "stream",
          "text": [
            "C:\\Users\\manav\\AppData\\Local\\Temp\\ipykernel_25700\\3807799976.py:1: FutureWarning: You are using `torch.load` with `weights_only=False` (the current default value), which uses the default pickle module implicitly. It is possible to construct malicious pickle data which will execute arbitrary code during unpickling (See https://github.com/pytorch/pytorch/blob/main/SECURITY.md#untrusted-models for more details). In a future release, the default value for `weights_only` will be flipped to `True`. This limits the functions that could be executed during unpickling. Arbitrary objects will no longer be allowed to be loaded via this mode unless they are explicitly allowlisted by the user via `torch.serialization.add_safe_globals`. We recommend you start setting `weights_only=True` for any use case where you don't have full control of the loaded file. Please open an issue on GitHub for any issues related to this experimental feature.\n",
            "  model.load_state_dict(torch.load(f\"{model_name}.pth\"))\n"
          ]
        },
        {
          "data": {
            "text/plain": [
              "<All keys matched successfully>"
            ]
          },
          "execution_count": 18,
          "metadata": {},
          "output_type": "execute_result"
        }
      ],
      "source": [
        "model.load_state_dict(torch.load(f\"{model_name}.pth\"))"
      ]
    },
    {
      "cell_type": "code",
      "execution_count": 19,
      "metadata": {
        "id": "67jSjxANFb9c"
      },
      "outputs": [],
      "source": [
        "# !pip install onnxruntime\n",
        "# !pip install onnx"
      ]
    },
    {
      "cell_type": "code",
      "execution_count": 20,
      "metadata": {
        "id": "Z8UovnMVFb9c",
        "outputId": "6f83f8c9-81ff-4c91-855d-8ff05b4e5574"
      },
      "outputs": [
        {
          "data": {
            "text/plain": [
              "ResNet(\n",
              "  (conv1): Conv2d(1, 64, kernel_size=(7, 7), stride=(1, 1), padding=(3, 3), bias=False)\n",
              "  (bn1): BatchNorm2d(64, eps=1e-05, momentum=0.1, affine=True, track_running_stats=True)\n",
              "  (act): SiLU()\n",
              "  (maxpool): MaxPool2d(kernel_size=3, stride=2, padding=1, dilation=1, ceil_mode=False)\n",
              "  (layer1): Sequential(\n",
              "    (0): ResNetBottleneck(\n",
              "      (conv1): Conv2d(64, 64, kernel_size=(1, 1), stride=(1, 1), bias=False)\n",
              "      (bn1): BatchNorm2d(64, eps=1e-05, momentum=0.1, affine=True, track_running_stats=True)\n",
              "      (conv2): Conv2d(64, 64, kernel_size=(3, 3), stride=(1, 1), padding=(1, 1), bias=False)\n",
              "      (bn2): BatchNorm2d(64, eps=1e-05, momentum=0.1, affine=True, track_running_stats=True)\n",
              "      (conv3): Conv2d(64, 256, kernel_size=(1, 1), stride=(1, 1), bias=False)\n",
              "      (bn3): BatchNorm2d(256, eps=1e-05, momentum=0.1, affine=True, track_running_stats=True)\n",
              "      (act): SiLU()\n",
              "      (downsample): Sequential(\n",
              "        (0): Conv2d(64, 256, kernel_size=(1, 1), stride=(1, 1))\n",
              "        (1): BatchNorm2d(256, eps=1e-05, momentum=0.1, affine=True, track_running_stats=True)\n",
              "      )\n",
              "    )\n",
              "    (1): ResNetBottleneck(\n",
              "      (conv1): Conv2d(256, 64, kernel_size=(1, 1), stride=(1, 1), bias=False)\n",
              "      (bn1): BatchNorm2d(64, eps=1e-05, momentum=0.1, affine=True, track_running_stats=True)\n",
              "      (conv2): Conv2d(64, 64, kernel_size=(3, 3), stride=(1, 1), padding=(1, 1), bias=False)\n",
              "      (bn2): BatchNorm2d(64, eps=1e-05, momentum=0.1, affine=True, track_running_stats=True)\n",
              "      (conv3): Conv2d(64, 256, kernel_size=(1, 1), stride=(1, 1), bias=False)\n",
              "      (bn3): BatchNorm2d(256, eps=1e-05, momentum=0.1, affine=True, track_running_stats=True)\n",
              "      (act): SiLU()\n",
              "    )\n",
              "    (2): ResNetBottleneck(\n",
              "      (conv1): Conv2d(256, 64, kernel_size=(1, 1), stride=(1, 1), bias=False)\n",
              "      (bn1): BatchNorm2d(64, eps=1e-05, momentum=0.1, affine=True, track_running_stats=True)\n",
              "      (conv2): Conv2d(64, 64, kernel_size=(3, 3), stride=(1, 1), padding=(1, 1), bias=False)\n",
              "      (bn2): BatchNorm2d(64, eps=1e-05, momentum=0.1, affine=True, track_running_stats=True)\n",
              "      (conv3): Conv2d(64, 256, kernel_size=(1, 1), stride=(1, 1), bias=False)\n",
              "      (bn3): BatchNorm2d(256, eps=1e-05, momentum=0.1, affine=True, track_running_stats=True)\n",
              "      (act): SiLU()\n",
              "    )\n",
              "  )\n",
              "  (layer2): Sequential(\n",
              "    (0): ResNetBottleneck(\n",
              "      (conv1): Conv2d(256, 128, kernel_size=(1, 1), stride=(1, 1), bias=False)\n",
              "      (bn1): BatchNorm2d(128, eps=1e-05, momentum=0.1, affine=True, track_running_stats=True)\n",
              "      (conv2): Conv2d(128, 128, kernel_size=(3, 3), stride=(2, 2), padding=(1, 1), bias=False)\n",
              "      (bn2): BatchNorm2d(128, eps=1e-05, momentum=0.1, affine=True, track_running_stats=True)\n",
              "      (conv3): Conv2d(128, 512, kernel_size=(1, 1), stride=(1, 1), bias=False)\n",
              "      (bn3): BatchNorm2d(512, eps=1e-05, momentum=0.1, affine=True, track_running_stats=True)\n",
              "      (act): SiLU()\n",
              "      (downsample): Sequential(\n",
              "        (0): Conv2d(256, 512, kernel_size=(1, 1), stride=(2, 2))\n",
              "        (1): BatchNorm2d(512, eps=1e-05, momentum=0.1, affine=True, track_running_stats=True)\n",
              "      )\n",
              "    )\n",
              "    (1): ResNetBottleneck(\n",
              "      (conv1): Conv2d(512, 128, kernel_size=(1, 1), stride=(1, 1), bias=False)\n",
              "      (bn1): BatchNorm2d(128, eps=1e-05, momentum=0.1, affine=True, track_running_stats=True)\n",
              "      (conv2): Conv2d(128, 128, kernel_size=(3, 3), stride=(1, 1), padding=(1, 1), bias=False)\n",
              "      (bn2): BatchNorm2d(128, eps=1e-05, momentum=0.1, affine=True, track_running_stats=True)\n",
              "      (conv3): Conv2d(128, 512, kernel_size=(1, 1), stride=(1, 1), bias=False)\n",
              "      (bn3): BatchNorm2d(512, eps=1e-05, momentum=0.1, affine=True, track_running_stats=True)\n",
              "      (act): SiLU()\n",
              "    )\n",
              "    (2): ResNetBottleneck(\n",
              "      (conv1): Conv2d(512, 128, kernel_size=(1, 1), stride=(1, 1), bias=False)\n",
              "      (bn1): BatchNorm2d(128, eps=1e-05, momentum=0.1, affine=True, track_running_stats=True)\n",
              "      (conv2): Conv2d(128, 128, kernel_size=(3, 3), stride=(1, 1), padding=(1, 1), bias=False)\n",
              "      (bn2): BatchNorm2d(128, eps=1e-05, momentum=0.1, affine=True, track_running_stats=True)\n",
              "      (conv3): Conv2d(128, 512, kernel_size=(1, 1), stride=(1, 1), bias=False)\n",
              "      (bn3): BatchNorm2d(512, eps=1e-05, momentum=0.1, affine=True, track_running_stats=True)\n",
              "      (act): SiLU()\n",
              "    )\n",
              "    (3): ResNetBottleneck(\n",
              "      (conv1): Conv2d(512, 128, kernel_size=(1, 1), stride=(1, 1), bias=False)\n",
              "      (bn1): BatchNorm2d(128, eps=1e-05, momentum=0.1, affine=True, track_running_stats=True)\n",
              "      (conv2): Conv2d(128, 128, kernel_size=(3, 3), stride=(1, 1), padding=(1, 1), bias=False)\n",
              "      (bn2): BatchNorm2d(128, eps=1e-05, momentum=0.1, affine=True, track_running_stats=True)\n",
              "      (conv3): Conv2d(128, 512, kernel_size=(1, 1), stride=(1, 1), bias=False)\n",
              "      (bn3): BatchNorm2d(512, eps=1e-05, momentum=0.1, affine=True, track_running_stats=True)\n",
              "      (act): SiLU()\n",
              "    )\n",
              "  )\n",
              "  (layer3): Sequential(\n",
              "    (0): ResNetBottleneck(\n",
              "      (conv1): Conv2d(512, 256, kernel_size=(1, 1), stride=(1, 1), bias=False)\n",
              "      (bn1): BatchNorm2d(256, eps=1e-05, momentum=0.1, affine=True, track_running_stats=True)\n",
              "      (conv2): Conv2d(256, 256, kernel_size=(3, 3), stride=(2, 2), padding=(1, 1), bias=False)\n",
              "      (bn2): BatchNorm2d(256, eps=1e-05, momentum=0.1, affine=True, track_running_stats=True)\n",
              "      (conv3): Conv2d(256, 1024, kernel_size=(1, 1), stride=(1, 1), bias=False)\n",
              "      (bn3): BatchNorm2d(1024, eps=1e-05, momentum=0.1, affine=True, track_running_stats=True)\n",
              "      (act): SiLU()\n",
              "      (downsample): Sequential(\n",
              "        (0): Conv2d(512, 1024, kernel_size=(1, 1), stride=(2, 2))\n",
              "        (1): BatchNorm2d(1024, eps=1e-05, momentum=0.1, affine=True, track_running_stats=True)\n",
              "      )\n",
              "    )\n",
              "    (1): ResNetBottleneck(\n",
              "      (conv1): Conv2d(1024, 256, kernel_size=(1, 1), stride=(1, 1), bias=False)\n",
              "      (bn1): BatchNorm2d(256, eps=1e-05, momentum=0.1, affine=True, track_running_stats=True)\n",
              "      (conv2): Conv2d(256, 256, kernel_size=(3, 3), stride=(1, 1), padding=(1, 1), bias=False)\n",
              "      (bn2): BatchNorm2d(256, eps=1e-05, momentum=0.1, affine=True, track_running_stats=True)\n",
              "      (conv3): Conv2d(256, 1024, kernel_size=(1, 1), stride=(1, 1), bias=False)\n",
              "      (bn3): BatchNorm2d(1024, eps=1e-05, momentum=0.1, affine=True, track_running_stats=True)\n",
              "      (act): SiLU()\n",
              "    )\n",
              "    (2): ResNetBottleneck(\n",
              "      (conv1): Conv2d(1024, 256, kernel_size=(1, 1), stride=(1, 1), bias=False)\n",
              "      (bn1): BatchNorm2d(256, eps=1e-05, momentum=0.1, affine=True, track_running_stats=True)\n",
              "      (conv2): Conv2d(256, 256, kernel_size=(3, 3), stride=(1, 1), padding=(1, 1), bias=False)\n",
              "      (bn2): BatchNorm2d(256, eps=1e-05, momentum=0.1, affine=True, track_running_stats=True)\n",
              "      (conv3): Conv2d(256, 1024, kernel_size=(1, 1), stride=(1, 1), bias=False)\n",
              "      (bn3): BatchNorm2d(1024, eps=1e-05, momentum=0.1, affine=True, track_running_stats=True)\n",
              "      (act): SiLU()\n",
              "    )\n",
              "    (3): ResNetBottleneck(\n",
              "      (conv1): Conv2d(1024, 256, kernel_size=(1, 1), stride=(1, 1), bias=False)\n",
              "      (bn1): BatchNorm2d(256, eps=1e-05, momentum=0.1, affine=True, track_running_stats=True)\n",
              "      (conv2): Conv2d(256, 256, kernel_size=(3, 3), stride=(1, 1), padding=(1, 1), bias=False)\n",
              "      (bn2): BatchNorm2d(256, eps=1e-05, momentum=0.1, affine=True, track_running_stats=True)\n",
              "      (conv3): Conv2d(256, 1024, kernel_size=(1, 1), stride=(1, 1), bias=False)\n",
              "      (bn3): BatchNorm2d(1024, eps=1e-05, momentum=0.1, affine=True, track_running_stats=True)\n",
              "      (act): SiLU()\n",
              "    )\n",
              "    (4): ResNetBottleneck(\n",
              "      (conv1): Conv2d(1024, 256, kernel_size=(1, 1), stride=(1, 1), bias=False)\n",
              "      (bn1): BatchNorm2d(256, eps=1e-05, momentum=0.1, affine=True, track_running_stats=True)\n",
              "      (conv2): Conv2d(256, 256, kernel_size=(3, 3), stride=(1, 1), padding=(1, 1), bias=False)\n",
              "      (bn2): BatchNorm2d(256, eps=1e-05, momentum=0.1, affine=True, track_running_stats=True)\n",
              "      (conv3): Conv2d(256, 1024, kernel_size=(1, 1), stride=(1, 1), bias=False)\n",
              "      (bn3): BatchNorm2d(1024, eps=1e-05, momentum=0.1, affine=True, track_running_stats=True)\n",
              "      (act): SiLU()\n",
              "    )\n",
              "    (5): ResNetBottleneck(\n",
              "      (conv1): Conv2d(1024, 256, kernel_size=(1, 1), stride=(1, 1), bias=False)\n",
              "      (bn1): BatchNorm2d(256, eps=1e-05, momentum=0.1, affine=True, track_running_stats=True)\n",
              "      (conv2): Conv2d(256, 256, kernel_size=(3, 3), stride=(1, 1), padding=(1, 1), bias=False)\n",
              "      (bn2): BatchNorm2d(256, eps=1e-05, momentum=0.1, affine=True, track_running_stats=True)\n",
              "      (conv3): Conv2d(256, 1024, kernel_size=(1, 1), stride=(1, 1), bias=False)\n",
              "      (bn3): BatchNorm2d(1024, eps=1e-05, momentum=0.1, affine=True, track_running_stats=True)\n",
              "      (act): SiLU()\n",
              "    )\n",
              "  )\n",
              "  (layer4): Sequential(\n",
              "    (0): ResNetBottleneck(\n",
              "      (conv1): Conv2d(1024, 512, kernel_size=(1, 1), stride=(1, 1), bias=False)\n",
              "      (bn1): BatchNorm2d(512, eps=1e-05, momentum=0.1, affine=True, track_running_stats=True)\n",
              "      (conv2): Conv2d(512, 512, kernel_size=(3, 3), stride=(2, 2), padding=(1, 1), bias=False)\n",
              "      (bn2): BatchNorm2d(512, eps=1e-05, momentum=0.1, affine=True, track_running_stats=True)\n",
              "      (conv3): Conv2d(512, 2048, kernel_size=(1, 1), stride=(1, 1), bias=False)\n",
              "      (bn3): BatchNorm2d(2048, eps=1e-05, momentum=0.1, affine=True, track_running_stats=True)\n",
              "      (act): SiLU()\n",
              "      (downsample): Sequential(\n",
              "        (0): Conv2d(1024, 2048, kernel_size=(1, 1), stride=(2, 2))\n",
              "        (1): BatchNorm2d(2048, eps=1e-05, momentum=0.1, affine=True, track_running_stats=True)\n",
              "      )\n",
              "    )\n",
              "    (1): ResNetBottleneck(\n",
              "      (conv1): Conv2d(2048, 512, kernel_size=(1, 1), stride=(1, 1), bias=False)\n",
              "      (bn1): BatchNorm2d(512, eps=1e-05, momentum=0.1, affine=True, track_running_stats=True)\n",
              "      (conv2): Conv2d(512, 512, kernel_size=(3, 3), stride=(1, 1), padding=(1, 1), bias=False)\n",
              "      (bn2): BatchNorm2d(512, eps=1e-05, momentum=0.1, affine=True, track_running_stats=True)\n",
              "      (conv3): Conv2d(512, 2048, kernel_size=(1, 1), stride=(1, 1), bias=False)\n",
              "      (bn3): BatchNorm2d(2048, eps=1e-05, momentum=0.1, affine=True, track_running_stats=True)\n",
              "      (act): SiLU()\n",
              "    )\n",
              "    (2): ResNetBottleneck(\n",
              "      (conv1): Conv2d(2048, 512, kernel_size=(1, 1), stride=(1, 1), bias=False)\n",
              "      (bn1): BatchNorm2d(512, eps=1e-05, momentum=0.1, affine=True, track_running_stats=True)\n",
              "      (conv2): Conv2d(512, 512, kernel_size=(3, 3), stride=(1, 1), padding=(1, 1), bias=False)\n",
              "      (bn2): BatchNorm2d(512, eps=1e-05, momentum=0.1, affine=True, track_running_stats=True)\n",
              "      (conv3): Conv2d(512, 2048, kernel_size=(1, 1), stride=(1, 1), bias=False)\n",
              "      (bn3): BatchNorm2d(2048, eps=1e-05, momentum=0.1, affine=True, track_running_stats=True)\n",
              "      (act): SiLU()\n",
              "    )\n",
              "  )\n",
              "  (avgpool): AdaptiveAvgPool2d(output_size=(1, 1))\n",
              "  (fc): Sequential(\n",
              "    (0): Linear(in_features=2048, out_features=1024, bias=True)\n",
              "    (1): SiLU()\n",
              "    (2): Dropout(p=0.01, inplace=False)\n",
              "    (3): Linear(in_features=1024, out_features=6, bias=True)\n",
              "  )\n",
              ")"
            ]
          },
          "execution_count": 20,
          "metadata": {},
          "output_type": "execute_result"
        }
      ],
      "source": [
        "model.eval()\n",
        "model.to(device)"
      ]
    },
    {
      "cell_type": "code",
      "execution_count": 21,
      "metadata": {
        "id": "sc6yIfq-Fb9c"
      },
      "outputs": [],
      "source": [
        "# Converting to TorchScript + ONNX\n",
        "\n",
        "example_input = torch.randn(100, 1, 64, 64).to(device) # Using 100 batches\n",
        "\n",
        "# TorchScript (JIT)\n",
        "jit_model = torch.jit.trace(model, example_input)\n",
        "torch.jit.save(jit_model, f\"{model_name}_ts.pt\")\n",
        "\n",
        "# ONNX\n",
        "torch.onnx.export(\n",
        "    model, example_input, f\"{model_name}.onnx\",\n",
        "    input_names=[\"input\"], output_names=[\"output\"],\n",
        "    dynamic_axes={\"input\": {0: \"batch_size\"}, \"output\": {0: \"batch_size\"}},\n",
        "    opset_version=11\n",
        ")"
      ]
    },
    {
      "cell_type": "code",
      "execution_count": 22,
      "metadata": {
        "id": "PgHRtmJeFb9c"
      },
      "outputs": [],
      "source": [
        "# %pip install openvino==2025.0.0"
      ]
    },
    {
      "cell_type": "code",
      "execution_count": 23,
      "metadata": {
        "id": "nRY45CG4Fb9c",
        "outputId": "9b55c587-17d2-4a6e-a6fe-5b8fa5378952"
      },
      "outputs": [
        {
          "name": "stdout",
          "output_type": "stream",
          "text": [
            "[ SUCCESS ] XML file: c:\\Users\\manav\\OneDrive\\Desktop\\Deep Learning\\resnet50_64x64_data_augmentation_different_architecture+optim.xml\n",
            "[ SUCCESS ] BIN file: c:\\Users\\manav\\OneDrive\\Desktop\\Deep Learning\\resnet50_64x64_data_augmentation_different_architecture+optim.bin\n"
          ]
        },
        {
          "name": "stderr",
          "output_type": "stream",
          "text": [
            "c:\\Users\\manav\\miniconda3\\envs\\ML\\lib\\importlib\\util.py:247: DeprecationWarning: The `openvino.runtime` module is deprecated and will be removed in the 2026.0 release. Please replace `openvino.runtime` with `openvino`.\n",
            "  self.__spec__.loader.exec_module(self)\n"
          ]
        }
      ],
      "source": [
        "!ovc \"{model_name}.onnx\" --compress_to_fp16\n",
        "# compresses the OpenVINO model to float16"
      ]
    },
    {
      "cell_type": "code",
      "execution_count": 24,
      "metadata": {
        "id": "mM3YG5TQFb9c"
      },
      "outputs": [],
      "source": [
        "import time\n",
        "import numpy as np\n",
        "from sklearn.metrics import f1_score, accuracy_score\n",
        "\n",
        "def evaluate_inference(model, dataloader, name):\n",
        "    preds, labels = [], []\n",
        "    start = time.time()\n",
        "\n",
        "    for x, y in dataloader:\n",
        "        y_pred = model(x)\n",
        "        preds.extend(np.argmax(y_pred, axis=1)) # selecting the predicted labels here\n",
        "        labels.extend(y.numpy()) # actual labels\n",
        "    end = time.time() # final end time\n",
        "\n",
        "    accuracy = accuracy_score(labels, preds)\n",
        "    latency = (end - start) / len(dataloader.dataset) * 1000\n",
        "    print(f\"{name}: Accuracy = {accuracy:.4f}, Latency = {latency:.2f} ms/sample\")\n",
        "    return accuracy, latency"
      ]
    },
    {
      "cell_type": "code",
      "execution_count": 25,
      "metadata": {
        "id": "sFQbJ8fmFb9d",
        "outputId": "5635ba80-dc66-4592-f68b-217f42fc14ac"
      },
      "outputs": [
        {
          "name": "stderr",
          "output_type": "stream",
          "text": [
            "c:\\Users\\manav\\miniconda3\\envs\\ML\\lib\\importlib\\util.py:247: DeprecationWarning: The `openvino.runtime` module is deprecated and will be removed in the 2026.0 release. Please replace `openvino.runtime` with `openvino`.\n",
            "  self.__spec__.loader.exec_module(self)\n"
          ]
        }
      ],
      "source": [
        "# Torch\n",
        "# Running each model on CPU\n",
        "from openvino.runtime import Core\n",
        "import onnxruntime as ort\n",
        "\n",
        "\n",
        "\n",
        "model.eval()\n",
        "model.to(\"cpu\")\n",
        "def infer_torch(x):\n",
        "    with torch.no_grad():\n",
        "        return model(x).numpy()\n",
        "\n",
        "# TorchScript\n",
        "ts_model = torch.jit.load(f\"{model_name}_ts.pt\", map_location=\"cpu\")\n",
        "ts_model = torch.jit.optimize_for_inference(ts_model)\n",
        "ts_model.eval()\n",
        "def infer_ts(x):\n",
        "    with torch.no_grad():\n",
        "        return ts_model(x).numpy()\n",
        "\n",
        "# ONNX\n",
        "sess_options = ort.SessionOptions()\n",
        "sess_options.graph_optimization_level = ort.GraphOptimizationLevel.ORT_ENABLE_ALL\n",
        "\n",
        "onnx_session = ort.InferenceSession(f\"{model_name}.onnx\", sess_options)\n",
        "def infer_onnx(x):\n",
        "    input_name = onnx_session.get_inputs()[0].name\n",
        "    return onnx_session.run(None, {input_name: x.numpy()})[0]\n",
        "\n",
        "# OpenVINO\n",
        "core = Core()\n",
        "ov_model = core.read_model(f\"{model_name}.xml\")\n",
        "compiled_model = core.compile_model(ov_model, \"CPU\")\n",
        "\n",
        "input_layer = compiled_model.input(0)\n",
        "output_layer = compiled_model.output(0)\n",
        "\n",
        "def infer_openvino(x):\n",
        "    return compiled_model({input_layer.any_name: x.numpy()})[output_layer.any_name]"
      ]
    },
    {
      "cell_type": "code",
      "execution_count": 26,
      "metadata": {
        "id": "kWq-yUmiFb9d"
      },
      "outputs": [
        {
          "name": "stdout",
          "output_type": "stream",
          "text": [
            "PyTorch: Accuracy = 0.9908, Latency = 13.39 ms/sample\n",
            "TorchScript: Accuracy = 0.9908, Latency = 7.35 ms/sample\n",
            "ONNX: Accuracy = 0.9908, Latency = 5.65 ms/sample\n",
            "OpenVINO: Accuracy = 0.9908, Latency = 5.89 ms/sample\n"
          ]
        }
      ],
      "source": [
        "accs, lats = {}, {}\n",
        "\n",
        "accs[\"Torch\"], lats[\"Torch\"] = evaluate_inference(infer_torch, test_loader, \"PyTorch\")\n",
        "accs[\"TorchScript\"], lats[\"TorchScript\"] = evaluate_inference(infer_ts, test_loader, \"TorchScript\")\n",
        "accs[\"ONNX\"], lats[\"ONNX\"] = evaluate_inference(infer_onnx, test_loader, \"ONNX\")\n",
        "accs[\"OpenVINO\"], lats[\"OpenVINO\"] = evaluate_inference(infer_openvino, test_loader, \"OpenVINO\")"
      ]
    },
    {
      "cell_type": "code",
      "execution_count": 27,
      "metadata": {
        "id": "3ffNbSP0Fb9d"
      },
      "outputs": [
        {
          "data": {
            "image/png": "[encoded data removed]",
            "text/plain": [
              "<Figure size 1200x500 with 2 Axes>"
            ]
          },
          "metadata": {},
          "output_type": "display_data"
        }
      ],
      "source": [
        "import matplotlib.pyplot as plt\n",
        "\n",
        "fig, (ax1, ax2) = plt.subplots(1, 2, figsize=(12, 5))\n",
        "ax1.bar(accs.keys(), accs.values())\n",
        "ax1.set_title(\"Accuracy Comparison\")\n",
        "ax2.bar(lats.keys(), lats.values())\n",
        "ax2.set_title(\"Latency per Sample (ms)\")\n",
        "plt.suptitle(f\"{model_name} Model\", fontsize=16)\n",
        "plt.tight_layout()\n",
        "plt.show()"
      ]
    },
    {
      "cell_type": "code",
      "execution_count": 31,
      "metadata": {
        "id": "BN5h6mQbFb9d"
      },
      "outputs": [
        {
          "data": {
            "image/png": "[encoded data removed]",
            "text/plain": [
              "<Figure size 640x480 with 1 Axes>"
            ]
          },
          "metadata": {},
          "output_type": "display_data"
        }
      ],
      "source": [
        "# Let's try one individual image\n",
        "from PIL import Image\n",
        "import onnxruntime\n",
        "\n",
        "# Transforms on test image\n",
        "inference_transform = Compose([\n",
        "    LoadImage(image_only=True),\n",
        "    EnsureChannelFirst(),\n",
        "    ScaleIntensity(),\n",
        "])\n",
        "\n",
        "sample_path = test_x[21]  # Using the test set image to check for singular image\n",
        "idx = image_files_list.index(sample_path)\n",
        "sample_label = image_class[idx]\n",
        "sample_class_name = class_names[sample_label]\n",
        "\n",
        "\n",
        "img = Image.open(sample_path)\n",
        "plt.imshow(img)\n",
        "plt.title(f\"Sample : {sample_class_name}\")\n",
        "\n",
        "image_tensor = inference_transform(sample_path)\n",
        "input_tensor = image_tensor.unsqueeze(0)  # (1, 1, 64, 64)\n",
        "input_arr = input_tensor.numpy().astype(np.float32)\n",
        "\n",
        "\n",
        "def softmax(x):\n",
        "    e_x = np.exp(x - np.max(x))\n",
        "    return e_x / e_x.sum()"
      ]
    },
    {
      "cell_type": "code",
      "execution_count": 32,
      "metadata": {
        "id": "aNBZ6Jb3Fb9d"
      },
      "outputs": [
        {
          "name": "stdout",
          "output_type": "stream",
          "text": [
            "\n",
            "Top-5 Predictions:\n",
            "1. CXR          — 0.9963\n",
            "2. ChestCT      — 0.0014\n",
            "3. Hand         — 0.0011\n",
            "4. AbdomenCT    — 0.0006\n",
            "5. HeadCT       — 0.0004\n",
            "6. BreastMRI    — 0.0000\n",
            "\n",
            " ONNX Top-1 Prediction: CXR\n",
            "Inference time: 9.03 ms\n"
          ]
        }
      ],
      "source": [
        "# ONNX Inference\n",
        "sess_options = ort.SessionOptions()\n",
        "sess_options.graph_optimization_level = ort.GraphOptimizationLevel.ORT_ENABLE_ALL\n",
        "\n",
        "onnx_session = ort.InferenceSession(f\"{model_name}.onnx\", sess_options)\n",
        "input_name = onnx_session.get_inputs()[0].name\n",
        "\n",
        "start = time.time()\n",
        "ort_output = onnx_session.run([], {input_name: input_arr})[0]\n",
        "end = time.time()\n",
        "\n",
        "\n",
        "probs = softmax(ort_output.flatten())\n",
        "top5_indices = np.argsort(-probs)[:7]\n",
        "\n",
        "print(\"\\nTop-5 Predictions:\")\n",
        "for rank, i in enumerate(top5_indices):\n",
        "    print(f\"{rank+1}. {class_names[i]:<12} — {probs[i]:.4f}\")\n",
        "\n",
        "print(f\"\\n ONNX Top-1 Prediction: {class_names[top5_indices[0]]}\")\n",
        "print(f\"Inference time: {(end - start) * 1000:.2f} ms\")"
      ]
    },
    {
      "cell_type": "code",
      "execution_count": 33,
      "metadata": {
        "id": "8f39A2V-Fb9d"
      },
      "outputs": [
        {
          "name": "stdout",
          "output_type": "stream",
          "text": [
            "\n",
            "Top-5 Predictions:\n",
            "1. CXR          — 0.9963\n",
            "2. ChestCT      — 0.0014\n",
            "3. Hand         — 0.0011\n",
            "4. AbdomenCT    — 0.0006\n",
            "5. HeadCT       — 0.0004\n",
            "6. BreastMRI    — 0.0000\n",
            "\n",
            " OpenVINO Top-1 Prediction: CXR\n",
            "Inference time: 35.06 ms\n"
          ]
        }
      ],
      "source": [
        "# OpenVINO inference\n",
        "core = Core()\n",
        "ov_model = core.read_model(f\"{model_name}.xml\")\n",
        "compiled_model = core.compile_model(ov_model, \"CPU\")\n",
        "output_layer = compiled_model.output(0)\n",
        "\n",
        "start = time.time()\n",
        "ort_output = compiled_model([input_arr])[output_layer]\n",
        "end = time.time()\n",
        "\n",
        "probs = softmax(ort_output.flatten())\n",
        "top5_indices = np.argsort(-probs)[:7]\n",
        "\n",
        "print(\"\\nTop-5 Predictions:\")\n",
        "for rank, i in enumerate(top5_indices):\n",
        "    print(f\"{rank+1}. {class_names[i]:<12} — {probs[i]:.4f}\")\n",
        "\n",
        "print(f\"\\n OpenVINO Top-1 Prediction: {class_names[top5_indices[0]]}\")\n",
        "print(f\"Inference time: {(end - start) * 1000:.2f} ms\")"
      ]
    },
    {
      "cell_type": "markdown",
      "metadata": {
        "id": "bMkqBZ4rFb9d"
      },
      "source": [
        "---"
      ]
    }
  ],
  "metadata": {
    "accelerator": "GPU",
    "colab": {
      "collapsed_sections": [
        "WSTBT-gXFb9c"
      ],
      "gpuType": "L4",
      "machine_shape": "hm",
      "provenance": []
    },
    "kernelspec": {
      "display_name": "ML",
      "language": "python",
      "name": "python3"
    },
    "language_info": {
      "codemirror_mode": {
        "name": "ipython",
        "version": 3
      },
      "file_extension": ".py",
      "mimetype": "text/x-python",
      "name": "python",
      "nbconvert_exporter": "python",
      "pygments_lexer": "ipython3",
      "version": "3.10.13"
    }
  },
  "nbformat": 4,
  "nbformat_minor": 0
}
